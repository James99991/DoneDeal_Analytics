{
 "cells": [
  {
   "cell_type": "markdown",
   "metadata": {},
   "source": [
    "# Basic Network Analysis\n",
    "\n",
    "`Date: 26/12/2019`\n",
    "\n",
    "`Author: James Smith`\n",
    "\n",
    "In this notebook we will do some basic preprocessing and network visualisation/analysis. Currently we have a standard tablular dataset with independent rows. Thus, in order to do this we will need to think about how we want to represent it as a network. \n",
    "\n",
    "## Summary\n",
    "\n",
    "- [This article](https://www.analyticsvidhya.com/blog/2018/04/introduction-to-graph-theory-network-analysis-python-codes/) is very useful for a quick overview of network analytics. \n",
    "- [This article](https://medium.com/@nikkisharma536/knowledge-graph-part-2-modelling-tabular-data-as-graph-cfe1e0ee18fe) goes into more detail on modelling tabular data as a graph.\n",
    "    > Nodes represent important entities/subjects/objects in our graphs. By having multiple types of node we can take advantage of the connected nature of the graph. For example : if our data set contains data about user and places with some metadata/attributes about both, we will create nodes for User and Place, and connect these by some Relation/edge (eg. User LIVES-IN Place) .\n",
    "\n",
    "## Identifying Nodes\n",
    "\n",
    "### Seller (Seller ID)\n",
    "(if phone numbers are available this would be better - perhaps there are several seller ID's per phone number).\n",
    "\n",
    "**Node Attributes**\n",
    "- Seller name\n",
    "- Number of ads seller has\n",
    "- Seller location (possibly a separate node)\n",
    "- Seller registration date\n",
    "- Seller type\n",
    "\n",
    "### Ad (Ad ID)\n",
    "\n",
    "**Node Attributes**\n",
    "- Ad info\n",
    "\n",
    "### Location\n",
    "(county and town concatenated)\n",
    "\n",
    "Ideally we would like more specific location like full address to create meaningfull links, but we will leave this in as a demonstration\n",
    "\n",
    "**Node Attributes**\n",
    "- None"
   ]
  },
  {
   "cell_type": "markdown",
   "metadata": {},
   "source": [
    "Load Data"
   ]
  },
  {
   "cell_type": "code",
   "execution_count": 1,
   "metadata": {},
   "outputs": [],
   "source": [
    "import pandas as pd\n",
    "import matplotlib.pyplot as plt\n",
    "%matplotlib inline\n",
    "\n",
    "table_location = r\"C:\\Users\\User\\Documents\\ITB Year 2\\Text Analytics and Web Content Mining\\Assignments\\Assignment 3\\github\\DoneDeal_Analytics\\data\\ad_info_table.csv\"\n",
    "\n",
    "ad_info_table = pd.read_csv(table_location)"
   ]
  },
  {
   "cell_type": "code",
   "execution_count": 2,
   "metadata": {},
   "outputs": [
    {
     "data": {
      "text/plain": [
       "10007"
      ]
     },
     "execution_count": 2,
     "metadata": {},
     "output_type": "execute_result"
    }
   ],
   "source": [
    "len(ad_info_table)"
   ]
  },
  {
   "cell_type": "markdown",
   "metadata": {},
   "source": [
    "## Quick Cleaning\n",
    "\n",
    "We only are looking at Private Sellers and excluding rows with missing data that we will value later on."
   ]
  },
  {
   "cell_type": "code",
   "execution_count": 22,
   "metadata": {
    "scrolled": true
   },
   "outputs": [
    {
     "name": "stdout",
     "output_type": "stream",
     "text": [
      "4269 rows removed\n"
     ]
    }
   ],
   "source": [
    "# Only want Private Sellers and those with actual IDs and location\n",
    "num_rows_original = len(ad_info_table)\n",
    "\n",
    "data = ad_info_table\n",
    "\n",
    "data = data[data[\"seller_type\"] == \"PRIVATE\"]\n",
    "# data = data.drop(indexNames, inplace = True)\n",
    "\n",
    "data = data.dropna(subset = ['ad_id','seller_county', 'seller_county_town', 'seller_id'])\n",
    "\n",
    "# Ad location column\n",
    "data[\"seller_location\"] = data[\"seller_county_town\"] + \", \" + data[\"seller_county\"]\n",
    "\n",
    "num_rows_clean = len(data)\n",
    "\n",
    "print(str(num_rows_original-num_rows_clean), \"rows removed\")\n",
    "\n",
    "#data = data.sample(frac = 0.001)"
   ]
  },
  {
   "cell_type": "code",
   "execution_count": 23,
   "metadata": {},
   "outputs": [
    {
     "data": {
      "text/plain": [
       "5738"
      ]
     },
     "execution_count": 23,
     "metadata": {},
     "output_type": "execute_result"
    }
   ],
   "source": [
    "len(data)"
   ]
  },
  {
   "cell_type": "markdown",
   "metadata": {},
   "source": [
    "# Representing Pandas Dataframe as Network\n",
    "\n",
    "**Networkx**\n",
    "\n",
    "- `from_pandas_dataframe()` - https://networkx.github.io/documentation/networkx-1.10/reference/generated/networkx.convert_matrix.from_pandas_dataframe.html\n",
    "    - Needs to be fed an edge list representation of a graph\n",
    "    \n",
    "- `g.add_edges_from()` \n",
    "    - Ads list of edges to an empty graph\n",
    "    \n",
    "    \n",
    "## Sellers also need to be connected to a location!!!!\n",
    "\n",
    "## Simple Example and Plot\n",
    "\n",
    "### List attributes as connections to all ads"
   ]
  },
  {
   "cell_type": "code",
   "execution_count": 24,
   "metadata": {},
   "outputs": [
    {
     "data": {
      "text/plain": [
       "Index(['Unnamed: 0', 'ad_age', 'ad_currency', 'ad_description', 'ad_header',\n",
       "       'ad_id', 'ad_price', 'ad_url', 'car_body_type', 'car_colour',\n",
       "       'car_engine', 'car_fuel_type', 'car_make', 'car_mileage', 'car_model',\n",
       "       'car_nct_expiry', 'car_num_doors', 'car_num_prev_owners',\n",
       "       'car_reg_country', 'car_road_tax', 'car_transmission', 'car_year',\n",
       "       'green_light_verified', 'seller_county', 'seller_county_town',\n",
       "       'seller_id', 'seller_name', 'seller_num_ads', 'seller_phone_number',\n",
       "       'seller_reg_date', 'seller_type', 'seller_location'],\n",
       "      dtype='object')"
      ]
     },
     "execution_count": 24,
     "metadata": {},
     "output_type": "execute_result"
    }
   ],
   "source": [
    "data.columns"
   ]
  },
  {
   "cell_type": "code",
   "execution_count": 25,
   "metadata": {},
   "outputs": [],
   "source": [
    "import matplotlib.pyplot as plt\n",
    "import networkx as nx"
   ]
  },
  {
   "cell_type": "code",
   "execution_count": 26,
   "metadata": {},
   "outputs": [],
   "source": [
    "# Taken from https://codepunk.io/building-relationship-graphs-in-python-with-networkx/\n",
    "\n",
    "#----- Get Nodes of Graph -----#\n",
    "\n",
    "# Define what we want to make nodes\n",
    "node_types = [\"ad_id\", \"seller_location\", \"seller_id\"]\n",
    "\n",
    "# Dictionary of node_types and the list of them\n",
    "nodes_list_dict = {node_type : list(data[node_type].unique()) for node_type in node_types}\n",
    "\n",
    "# Format nodes as a list of tuples with the node and a dictionary\n",
    "nodes = []\n",
    "for node_type in node_types:\n",
    "    nodes_list = nodes_list_dict[node_type]\n",
    "    # Have list of specfic nodes for given type, loop over and append\n",
    "    for node in nodes_list:\n",
    "        nodes.append((node, {'node_type' : node_type}))\n",
    "        \n",
    "        \n",
    "# Get all unique ads in the data frame\n",
    "# ad_id_list = data[\"ad_id\"].unique().tolist()\n",
    "\n",
    "\n",
    "#---- Get Edges of Graph -----#\n",
    "\n",
    "# Initialize list of edges\n",
    "edges = []\n",
    "\n",
    "for ad_id in nodes_list_dict['ad_id']:\n",
    "    \n",
    "    # Get a 1 row dataframe for specific ad\n",
    "    ad = data[data[\"ad_id\"] == ad_id]\n",
    "\n",
    "    # Could think of an automated way of doing this using combinatorics\n",
    "    edges.append((ad_id, ad['seller_location'].values[0]))\n",
    "    edges.append((ad_id, ad['seller_id'].values[0]))\n",
    "    edges.append((ad['seller_location'].values[0], ad['seller_id'].values[0]))\n",
    "    \n",
    "\n",
    "g = nx.Graph()\n",
    "g.add_nodes_from(nodes)\n",
    "g.add_edges_from(edges)\n",
    "\n",
    "if len(data) < 300:\n",
    "    # Plot\n",
    "    plt.figure(figsize = (20, 10))\n",
    "\n",
    "    nx.draw(g, with_labels = True, node_size = 5000, font_size = 20)  \n",
    "    plt.show() "
   ]
  },
  {
   "cell_type": "markdown",
   "metadata": {},
   "source": [
    "## Network Analysis"
   ]
  },
  {
   "cell_type": "code",
   "execution_count": 35,
   "metadata": {},
   "outputs": [],
   "source": [
    "def top_n_important_nodes(g, node_type, n, metric = 'degree_centrality'):\n",
    "    \"\"\"\n",
    "    Function to get the top n most important node based on selected\n",
    "    measure and node type\n",
    "    \"\"\"\n",
    "    \n",
    "    if metric == 'degree_centrality':\n",
    "        d = nx.degree_centrality(g)\n",
    "    elif metric == 'betweenness_centrality':\n",
    "        d = nx.betweenness_centrality(g)\n",
    "    else:\n",
    "        print(\"Please choose a different metric\")\n",
    "\n",
    "    limit = 0\n",
    "    top_dict = {}\n",
    "\n",
    "    for k in sorted(d, key = d.get, reverse = True):\n",
    "        if k in nodes_list_dict[node_type] and limit <= n - 1:\n",
    "            top_dict[k] = round(d[k], 5)\n",
    "            limit = limit + 1\n",
    "    \n",
    "    return top_dict"
   ]
  },
  {
   "cell_type": "code",
   "execution_count": 36,
   "metadata": {},
   "outputs": [
    {
     "data": {
      "text/plain": [
       "{'Cork City, Cork': 0.03261,\n",
       " 'North City, Dublin': 0.04818,\n",
       " 'North County, Dublin': 0.04069,\n",
       " 'South City, Dublin': 0.05124,\n",
       " 'South County, Dublin': 0.05202}"
      ]
     },
     "execution_count": 36,
     "metadata": {},
     "output_type": "execute_result"
    }
   ],
   "source": [
    "top_n_important_nodes(g, 'seller_location', 5, metric = 'degree_centrality')"
   ]
  },
  {
   "cell_type": "code",
   "execution_count": 37,
   "metadata": {},
   "outputs": [
    {
     "data": {
      "text/plain": [
       "{'Cork City, Cork': 0.00106,\n",
       " 'North City, Dublin': 0.00231,\n",
       " 'North County, Dublin': 0.00165,\n",
       " 'South City, Dublin': 0.00261,\n",
       " 'South County, Dublin': 0.00269}"
      ]
     },
     "execution_count": 37,
     "metadata": {},
     "output_type": "execute_result"
    }
   ],
   "source": [
    "top_n_important_nodes(g, 'seller_location', 5, metric = 'betweenness_centrality')"
   ]
  },
  {
   "cell_type": "code",
   "execution_count": 38,
   "metadata": {},
   "outputs": [
    {
     "data": {
      "text/plain": [
       "{194602: 0.00128,\n",
       " 354474: 0.00187,\n",
       " 696364: 0.00168,\n",
       " 1165124: 0.00168,\n",
       " 1905202: 0.00404}"
      ]
     },
     "execution_count": 38,
     "metadata": {},
     "output_type": "execute_result"
    }
   ],
   "source": [
    "top_n_important_nodes(g, 'seller_id', 5, metric = 'degree_centrality')"
   ]
  },
  {
   "cell_type": "code",
   "execution_count": 39,
   "metadata": {},
   "outputs": [
    {
     "data": {
      "text/plain": [
       "{194602: 0.0, 354474: 0.0, 696364: 0.0, 1165124: 0.0, 1905202: 1e-05}"
      ]
     },
     "execution_count": 39,
     "metadata": {},
     "output_type": "execute_result"
    }
   ],
   "source": [
    "top_n_important_nodes(g, 'seller_id', 5, metric = 'betweenness_centrality')"
   ]
  },
  {
   "cell_type": "markdown",
   "metadata": {},
   "source": [
    "## Trying to Create a Nicer Visualisation\n",
    "\n",
    "Inspired by [this article](http://jonathansoma.com/lede/algorithms-2017/classes/networks/networkx-graphs-from-source-target-dataframe/)"
   ]
  },
  {
   "cell_type": "code",
   "execution_count": 21,
   "metadata": {},
   "outputs": [
    {
     "data": {
      "image/png": "[encoded data removed]",
      "text/plain": [
       "<matplotlib.figure.Figure at 0x228c98e7438>"
      ]
     },
     "metadata": {},
     "output_type": "display_data"
    }
   ],
   "source": [
    "if len(data) < 300:\n",
    "    #----- Define Layout -----# \n",
    "\n",
    "    plt.figure(figsize=(12, 12))\n",
    "    layout = nx.spring_layout(g,iterations=50)\n",
    "\n",
    "    #----- Set up colours -----#\n",
    "\n",
    "    # Taken from num 11 on https://visme.co/blog/website-color-schemes/\n",
    "    pallet = ['#E7717D', '#AFD275', '#C2CAD0', '#7E685A']\n",
    "\n",
    "    #----- Set up node dictionary and sizes -----#\n",
    "\n",
    "    # Get a corresponding dictionary of node sizes based on its degree\n",
    "    node_sizes_dict = {}\n",
    "    for node_type in node_types:\n",
    "        node_type_sizes = [g.degree(node_type) * 50 for node_type in nodes_list_dict[node_type]]\n",
    "        node_sizes_dict[node_type] = node_type_sizes\n",
    "\n",
    "    #----- Draw nodes and edges -----#\n",
    "\n",
    "    # ad_id - doesn't have sizes\n",
    "    nx.draw_networkx_nodes(g, \n",
    "                           layout, \n",
    "                           nodelist = nodes_list_dict['ad_id'], \n",
    "                           # node_size = node_sizes_dict['ad_id'],\n",
    "                           node_size = 50,\n",
    "                           node_color = pallet[0], \n",
    "                           label = 'Car Ads')\n",
    "\n",
    "    # seller_id\n",
    "    nx.draw_networkx_nodes(g, \n",
    "                           layout, \n",
    "                           nodelist = nodes_list_dict['seller_id'], \n",
    "                           node_size = node_sizes_dict['seller_id'], \n",
    "                           node_color = pallet[1], \n",
    "                           label = 'Sellers')\n",
    "\n",
    "    # seller_location\n",
    "    nx.draw_networkx_nodes(g, \n",
    "                           layout, \n",
    "                           nodelist = nodes_list_dict['seller_location'], \n",
    "                           node_size = node_sizes_dict['seller_location'], \n",
    "                           node_color = pallet[2], \n",
    "                           label = 'Location')\n",
    "\n",
    "    nx.draw_networkx_edges(g, layout, width = 1)\n",
    "    #nx.draw_networkx_edges(g, layout, width = 1, edge_color = pallet[3])\n",
    "\n",
    "    #----- Draw Labels -----#\n",
    "\n",
    "    node_labels = dict(zip(nodes_list_dict['seller_location'], nodes_list_dict['seller_location']))\n",
    "    nx.draw_networkx_labels(g, layout, labels = node_labels, font_size = 14)\n",
    "\n",
    "    # 4. Turn off the axis because I know you don't want it\n",
    "    plt.axis('off')\n",
    "    plt.legend(numpoints = 1)\n",
    "\n",
    "    title = \"Done Deal Network for \" + str(len(data)) + \" ads\"\n",
    "    plt.title(title, fontsize = 20)\n",
    "\n",
    "    # 5. Tell matplotlib to show it\n",
    "    plt.show()\n",
    "    \n",
    "else:\n",
    "    print(\"Too many data points to plot!\")"
   ]
  },
  {
   "cell_type": "code",
   "execution_count": null,
   "metadata": {},
   "outputs": [],
   "source": [
    "# g.edges(data = True)"
   ]
  },
  {
   "cell_type": "markdown",
   "metadata": {},
   "source": [
    "Things to note:\n",
    "- It would be better to have the **ads on the outside**\n",
    "- Seller connectedness proportional to size\n",
    "- Edge colour different for more important people\n",
    "- Labels on those who are important sellers\n",
    "- Choose more appealing colours\n",
    "- Considering exporting to Gephi\n",
    "- Consider having as multidirectional graph (**might help with drawing issues**)\n",
    "- Consider\n",
    "- Map to a map of Ireland"
   ]
  }
 ],
 "metadata": {
  "kernelspec": {
   "display_name": "Python 3",
   "language": "python",
   "name": "python3"
  },
  "language_info": {
   "codemirror_mode": {
    "name": "ipython",
    "version": 3
   },
   "file_extension": ".py",
   "mimetype": "text/x-python",
   "name": "python",
   "nbconvert_exporter": "python",
   "pygments_lexer": "ipython3",
   "version": "3.5.5"
  },
  "toc": {
   "base_numbering": 1,
   "nav_menu": {},
   "number_sections": true,
   "sideBar": true,
   "skip_h1_title": false,
   "title_cell": "Table of Contents",
   "title_sidebar": "Contents",
   "toc_cell": false,
   "toc_position": {},
   "toc_section_display": true,
   "toc_window_display": false
  }
 },
 "nbformat": 4,
 "nbformat_minor": 2
}
