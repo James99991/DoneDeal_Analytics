{
 "cells": [
  {
   "cell_type": "markdown",
   "metadata": {},
   "source": [
    "# Initial Tests\n",
    "\n",
    "`Author: James Smith`\n",
    "\n",
    "`Date: 14/12/2019`"
   ]
  },
  {
   "cell_type": "markdown",
   "metadata": {},
   "source": [
    "## Requesting"
   ]
  },
  {
   "cell_type": "code",
   "execution_count": 15,
   "metadata": {},
   "outputs": [
    {
     "name": "stdout",
     "output_type": "stream",
     "text": [
      "User Agent Sting 'python-requests' caused the request to fail\n",
      "Setting User Agent Sting to 'Mozilla/5' \n",
      "\n",
      "HTTP status code: \n",
      " 200 \n",
      "\n",
      "HTTP status: \n",
      " OK \n",
      "\n",
      "HTTP response headers: \n",
      " {'Content-Language': 'en-US', 'Cache-Control': 'no-cache, no-store', 'Pragma': 'no-cache', 'Server': 'donedeal', 'Expires': 'Thu, 01 Jan 1970 00:00:00 GMT', 'unreadMessages': '0', 'totalUnread': '0', 'Date': 'Mon, 16 Dec 2019 14:32:49 GMT', 'Transfer-Encoding': 'chunked', 'Connection': 'close', 'savedSearchIndicator': 'false', 'Vary': 'Origin,User-Agent,Accept-Encoding', 'Content-Encoding': 'gzip', 'Content-Type': 'text/html;charset=UTF-8', 'Set-Cookie': 'DDSearchStartTime=1576506769246; Domain=.donedeal.ie; Path=/; Secure; HttpOnly, JSESSIONID=378EDFD632F4E903100D8689A9075836; Path=/search/; Secure; HttpOnly, OPENSHIFT_production_search_SERVERID=970604834d14c7b80b1cae76d30f0cb6; path=/; HttpOnly', 'unreadHistoryChecks': '0', 'P3P': 'CP=\"DSP CUR OTPi IND OTRi ONL FIN\"'} \n",
      "\n",
      "HTTP request information: \n",
      " <PreparedRequest [GET]> \n",
      "\n",
      "HTTP request headers: \n",
      " {'User-Agent': 'Mozilla/5', 'Accept': '*/*', 'Accept-Encoding': 'gzip, deflate', 'Connection': 'keep-alive'} \n",
      "\n",
      "First 1000 characters of HTTP response content : \n",
      " <!DOCTYPE html>\n",
      "<!--[if IE 9]><html lang=\"en\" class=\"ie ie9 \"><![endif]-->\n",
      "<!--[if !IE]><!--><html lang=\"en\" class=\"\" ng-app=\"app\"><!--<![endif]-->\n",
      "<head>\n",
      "    <meta charset=\"utf-8\">\n",
      "    <meta http-equiv=\"Content-Type\" content=\"text/html;charset=UTF-8\">\n",
      "    <meta http-equiv=\"x-dns-prefetch-control\" content=\"on\">\n",
      "    <link rel=\"preconnect\" id=\"cdnDomain\" href=\"https://assets.donedeal.ie\">\n",
      "    <link rel=\"preconnect\" href=\"//photos.donedeal.ie\">\n",
      "    <link rel=\"preconnect\" href=\"//cdnjs.cloudflare.com\">\n",
      "    <link rel=\"preconnect\" href=\"//tags.tiqcdn.com\">\n",
      "    <link rel=\"preconnect\" href=\"//www.googletagservices.com\">\n",
      "    <link rel=\"dns-prefetch\" href=\"//autocomplete-proxy-donedeal-production.apps.dsch.ninja\">\n",
      "    <meta name=\"viewport\" content=\"width=device-width, initial-scale=1, minimum-scale=1, maximum-scale=2\">\n",
      "    <meta name=\"geo.country\" content=\"IE\">\n",
      "    <meta name=\"rating\" content=\"general\" >\n",
      "    <meta name=\"copyright\" content=\"Copyright 2005-2019 DoneDeal Ltd. All Rights Reserved.\"> \n",
      "\n"
     ]
    }
   ],
   "source": [
    "import requests\n",
    "\n",
    "url = 'https://www.donedeal.ie/cars/'\n",
    "\n",
    "try:\n",
    "    r = requests.get(url)\n",
    "    if r.status_code != 200:\n",
    "        raise\n",
    "except:\n",
    "    \n",
    "    #Some webisites don't respond well to HTTP requests with 'python-requests' as a User Agent String.\n",
    "    #You can get a 200 OK response if you set the User-Agent header to 'Mozilla'.\n",
    "    print(\"User Agent Sting 'python-requests' caused the request to fail\")\n",
    "    print(\"Setting User Agent Sting to 'Mozilla/5'\", \"\\n\")\n",
    "    \n",
    "    headers = {'User-Agent':'Mozilla/5'}\n",
    "    r = requests.get(url, headers = headers)\n",
    "\n",
    "# Which HTTP status code did we get back from the server?\n",
    "print(\"HTTP status code:\", \"\\n\", r.status_code, \"\\n\")\n",
    "# What is textual status code?\n",
    "print(\"HTTP status:\", \"\\n\", r.reason, \"\\n\")\n",
    "# What were the HTTP response headers?\n",
    "print(\"HTTP response headers:\", \"\\n\", r.headers, \"\\n\")\n",
    "# The request information is saved as a Python object in r.request:\n",
    "print(\"HTTP request information:\", \"\\n\", r.request, \"\\n\")\n",
    "# What were the HTTP request headers?\n",
    "print(\"HTTP request headers:\", \"\\n\", r.request.headers, \"\\n\")\n",
    "# The HTTP response content:\n",
    "print(\"First 1000 characters of HTTP response content :\", \"\\n\", r.text[0:1000], \"\\n\")"
   ]
  },
  {
   "cell_type": "markdown",
   "metadata": {},
   "source": [
    "## Including Beautiful Soup"
   ]
  },
  {
   "cell_type": "code",
   "execution_count": 17,
   "metadata": {},
   "outputs": [
    {
     "name": "stdout",
     "output_type": "stream",
     "text": [
      "User Agent Sting 'python-requests' caused the request to fail\n",
      "Setting User Agent Sting to 'Mozilla/5' \n",
      "\n"
     ]
    }
   ],
   "source": [
    "import requests\n",
    "from bs4 import BeautifulSoup\n",
    "\n",
    "url = 'https://www.donedeal.ie/cars/'\n",
    "\n",
    "try:\n",
    "    r = requests.get(url)\n",
    "    if r.status_code != 200:\n",
    "        raise\n",
    "except:\n",
    "    \n",
    "    #Some webisites don't respond well to HTTP requests with 'python-requests' as a User Agent String.\n",
    "    #You can get a 200 OK response if you set the User-Agent header to 'Mozilla'.\n",
    "    print(\"User Agent Sting 'python-requests' caused the request to fail\")\n",
    "    print(\"Setting User Agent Sting to 'Mozilla/5'\", \"\\n\")\n",
    "    \n",
    "    headers = {'User-Agent':'Mozilla/5'}\n",
    "    \n",
    "    r = requests.get(url, headers = headers)\n",
    "\n",
    "\"\"\"\n",
    "The Beautiful Soup library itself depends on an HTML parser to perform most of the bulk parsing work.\n",
    "In Python, multiple parsers exist to do so:\n",
    "\n",
    "    html.parser: \n",
    "            a built-in Python parser that is decent (especially when \n",
    "            using recent versions of Python 3) and requires no extra installation.\n",
    "    lxml: \n",
    "            which is very fast but requires an extra installation.\n",
    "    \n",
    "\"\"\"\n",
    "\n",
    "html_contents = r.text\n",
    "html_soup = BeautifulSoup(html_contents, 'html.parser')"
   ]
  },
  {
   "cell_type": "markdown",
   "metadata": {},
   "source": [
    "Testing the methods `find()` and `find_all()`"
   ]
  },
  {
   "cell_type": "code",
   "execution_count": 22,
   "metadata": {},
   "outputs": [
    {
     "name": "stdout",
     "output_type": "stream",
     "text": [
      "None\n",
      "NEXT\n",
      "None\n",
      "NEXT\n",
      "<h1 class=\"search-header-title\" data-reactid=\"18\">Cars</h1>\n",
      "<h1 class=\"num-results ng-cloak\" ng-if=\"search.results.pagingCounts.displayValue\">\n",
      "<strong>\n",
      "<ng-pluralize count=\"search.results.pagingCounts.displayValue\" when=\"{'0': 'no ads',\n",
      "                                '1': '1 ad',\n",
      "                                'other': '{{search.results.pagingCounts.displayValue | number}} ads'}\">\n",
      "</ng-pluralize>\n",
      "</strong>\n",
      "<span>\n",
      "<span ng-if=\"search.form.adType ==='wanted' \"><strong> wanted</strong></span>\n",
      "<span ng-if=\"search.submittedWords\"> for <strong>\"<span ng-bind=\"search.submittedWords\"></span>\"</strong> </span>\n",
      "<span ng-if=\"search.form.section &amp;&amp; search.form.section !== 'all'\"> for <strong ng-bind=\"search.results.breadcrumbs[search.results.breadcrumbs.length - 1].displayName\"></strong></span>\n",
      "                in <strong ng-bind=\"search.locationText\"></strong>\n",
      "<span ng-if=\"search.form['car-finance']\"> with\n",
      "                    <span class=\"u-ws-nowrap\">Finance Available through DoneDeal</span>\n",
      "</span>\n",
      "</span>\n",
      "</h1>\n",
      "<h1 data-reactid=\"4\">You may also be interested in</h1>\n",
      "<h1 class=\"featured-block-main-title\" data-reactid=\"3\"><a class=\"no-decoration\" data-reactid=\"4\" href=\"/dealer/spirit-motor-jaguar-land-rover\" target=\"_self\">Featured Dealer</a></h1>\n",
      "<h1 class=\"featured-block__heading\" data-reactid=\"10\">Featured Dealer</h1>\n",
      "<h2 class=\"featured-block__name\" data-reactid=\"192\">Spirit Motor Jaguar Land Rover</h2>\n"
     ]
    }
   ],
   "source": [
    "print(html_soup.find('h1'))\n",
    "print(\"NEXT\")\n",
    "print(html_soup.find('', {'id': 'p-logo'}))\n",
    "print(\"NEXT\")\n",
    "for found in html_soup.find_all(['h1', 'h2']):\n",
    "    print(found)"
   ]
  },
  {
   "cell_type": "code",
   "execution_count": null,
   "metadata": {},
   "outputs": [],
   "source": []
  }
 ],
 "metadata": {
  "kernelspec": {
   "display_name": "Python 3",
   "language": "python",
   "name": "python3"
  },
  "language_info": {
   "codemirror_mode": {
    "name": "ipython",
    "version": 3
   },
   "file_extension": ".py",
   "mimetype": "text/x-python",
   "name": "python",
   "nbconvert_exporter": "python",
   "pygments_lexer": "ipython3",
   "version": "3.5.5"
  },
  "toc": {
   "base_numbering": 1,
   "nav_menu": {},
   "number_sections": true,
   "sideBar": true,
   "skip_h1_title": false,
   "title_cell": "Table of Contents",
   "title_sidebar": "Contents",
   "toc_cell": false,
   "toc_position": {},
   "toc_section_display": true,
   "toc_window_display": false
  }
 },
 "nbformat": 4,
 "nbformat_minor": 2
}
